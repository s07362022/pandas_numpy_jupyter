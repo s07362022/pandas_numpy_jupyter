{
 "cells": [
  {
   "cell_type": "markdown",
   "metadata": {},
   "source": [
    "# ex44\n",
    "<font size=\"4\">選擇(Selection) DataFrame資料 - (2)</font>"
   ]
  },
  {
   "cell_type": "markdown",
   "metadata": {},
   "source": [
    "## 引入套件\n",
    "    import numpy as np  \n",
    "    import pandas as pd"
   ]
  },
  {
   "cell_type": "code",
   "execution_count": null,
   "metadata": {},
   "outputs": [],
   "source": []
  },
  {
   "cell_type": "markdown",
   "metadata": {},
   "source": [
    "## 建立DataFrame\n",
    "    df = pd.DataFrame([['Snow','M',22],['Tyrion','M',32],['Sansa','F',18],['Arya','F',14]], columns=['name','gender','age'])"
   ]
  },
  {
   "cell_type": "code",
   "execution_count": null,
   "metadata": {},
   "outputs": [],
   "source": []
  },
  {
   "cell_type": "markdown",
   "metadata": {},
   "source": [
    "## 顯示結果"
   ]
  },
  {
   "cell_type": "code",
   "execution_count": null,
   "metadata": {},
   "outputs": [],
   "source": []
  },
  {
   "cell_type": "markdown",
   "metadata": {},
   "source": [
    "## 使用切片方法\n",
    "    df['name']\n",
    "    df['gender']\n",
    "    df[['name','gender']]  #選取多行，多行的名字要放在list裡\n",
    "    df[0:] #第0列及之後的列，相當于df的全部数据，注意冒號是必須的\n",
    "    df[:2] #第2列之前的數据（不含第2列）\n",
    "    df[0:1] #第0列\n",
    "    df[1:3] #第1列到第2列（不含第3列）\n",
    "    df[-1:] #最後一列\n",
    "    df[-3:-1] #倒數第3列到倒數第1列"
   ]
  },
  {
   "cell_type": "code",
   "execution_count": null,
   "metadata": {},
   "outputs": [],
   "source": []
  },
  {
   "cell_type": "code",
   "execution_count": null,
   "metadata": {},
   "outputs": [],
   "source": []
  },
  {
   "cell_type": "code",
   "execution_count": null,
   "metadata": {},
   "outputs": [],
   "source": []
  },
  {
   "cell_type": "code",
   "execution_count": null,
   "metadata": {},
   "outputs": [],
   "source": []
  },
  {
   "cell_type": "code",
   "execution_count": null,
   "metadata": {},
   "outputs": [],
   "source": []
  },
  {
   "cell_type": "code",
   "execution_count": null,
   "metadata": {},
   "outputs": [],
   "source": []
  },
  {
   "cell_type": "code",
   "execution_count": null,
   "metadata": {},
   "outputs": [],
   "source": []
  },
  {
   "cell_type": "code",
   "execution_count": null,
   "metadata": {},
   "outputs": [],
   "source": []
  },
  {
   "cell_type": "code",
   "execution_count": null,
   "metadata": {},
   "outputs": [],
   "source": []
  },
  {
   "cell_type": "markdown",
   "metadata": {},
   "source": [
    "## Select by label:\n",
    "    在知道列名字的情况下，df.loc[index,column] 選取指定行，列的數據\n",
    "    \n",
    "    df.loc[0,'name'] # 'Snow'\n",
    "    df.loc[0:2, ['name','age']] #選取第0列到第2列，name行和age行的數據, 注意這裡的列選取是包含下標的\n",
    "    df.loc[[2,3],['name','age']] #選取指定的第2列和第3列，name和age行的數據\n",
    "    df.loc[df['gender']=='M','name'] #選取gender行是M，name行的數據\n",
    "    df.loc[df['gender']=='M',['name','age']] #選取gender行是M，name和age行的數據"
   ]
  },
  {
   "cell_type": "code",
   "execution_count": null,
   "metadata": {},
   "outputs": [],
   "source": []
  },
  {
   "cell_type": "code",
   "execution_count": null,
   "metadata": {},
   "outputs": [],
   "source": []
  },
  {
   "cell_type": "code",
   "execution_count": null,
   "metadata": {},
   "outputs": [],
   "source": []
  },
  {
   "cell_type": "code",
   "execution_count": null,
   "metadata": {},
   "outputs": [],
   "source": []
  },
  {
   "cell_type": "code",
   "execution_count": null,
   "metadata": {},
   "outputs": [],
   "source": []
  },
  {
   "cell_type": "code",
   "execution_count": null,
   "metadata": {},
   "outputs": [],
   "source": []
  },
  {
   "cell_type": "markdown",
   "metadata": {},
   "source": [
    "## Select by position:\n",
    "    在column name特别長或者index是時間序列等各種不方便輸入的情况下，可以用iloc (i = index), iloc完全用數字來定位 iloc[row_index, column_index]\n",
    "\n",
    "    df.iloc[0,0] #第0列第0行的數據\n",
    "    df.iloc[1,2] #第1列第2行的數據\n",
    "    df.iloc[[1,3],0:2] #第1列和第3列，從第0行到第2行（不包含第2行）的數據\n",
    "    df.iloc[1:3,[1,2]] #第1列到第3列（不包含第3列），第1行和第2行的數據"
   ]
  },
  {
   "cell_type": "code",
   "execution_count": null,
   "metadata": {},
   "outputs": [],
   "source": []
  },
  {
   "cell_type": "code",
   "execution_count": null,
   "metadata": {},
   "outputs": [],
   "source": []
  },
  {
   "cell_type": "code",
   "execution_count": null,
   "metadata": {},
   "outputs": [],
   "source": []
  },
  {
   "cell_type": "code",
   "execution_count": null,
   "metadata": {},
   "outputs": [],
   "source": []
  },
  {
   "cell_type": "code",
   "execution_count": null,
   "metadata": {},
   "outputs": [],
   "source": []
  },
  {
   "cell_type": "code",
   "execution_count": null,
   "metadata": {},
   "outputs": [],
   "source": []
  }
 ],
 "metadata": {
  "kernelspec": {
   "display_name": "Python 3",
   "language": "python",
   "name": "python3"
  },
  "language_info": {
   "codemirror_mode": {
    "name": "ipython",
    "version": 3
   },
   "file_extension": ".py",
   "mimetype": "text/x-python",
   "name": "python",
   "nbconvert_exporter": "python",
   "pygments_lexer": "ipython3",
   "version": "3.8.5"
  }
 },
 "nbformat": 4,
 "nbformat_minor": 2
}

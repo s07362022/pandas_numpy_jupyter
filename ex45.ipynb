{
 "cells": [
  {
   "cell_type": "markdown",
   "metadata": {},
   "source": [
    "# ex45\n",
    "<font size=\"4\">選擇(Selection) DataFrame資料 - (3)</font>  \n",
    "\n",
    "* 選取單一欄位或多個欄位\n",
    "* 選取特定範圍多筆紀錄\n",
    "* 使用標籤選取\n",
    "* 使用位置選取"
   ]
  },
  {
   "cell_type": "markdown",
   "metadata": {},
   "source": [
    "## 引入套件\n",
    "    import numpy as np\n",
    "    import pandas as pd"
   ]
  },
  {
   "cell_type": "code",
   "execution_count": null,
   "metadata": {},
   "outputs": [],
   "source": []
  },
  {
   "cell_type": "markdown",
   "metadata": {},
   "source": [
    "## 載入2020年1月1日空品資料\n",
    "    \n",
    "    df = pd.read_csv(\"..\\\\source\\\\air_data\\\\2020\\\\aqx_p_13_2020-01-01.csv\")\n",
    "    df.drop([\"SiteId\", \"ItemId\", \"ItemName\", \"ItemUnit\"], axis=1 ,inplace=True)\n",
    "    df.columns = [\"測站\", \"測項\", \"日期\",  0, 1,  2, 3, 4,  5,  6,  7,  8,  9, 10, 11, \\\n",
    "                                       12, 13, 14, 15, 16, 17, 18, 19, 20, 21, 22, 23]"
   ]
  },
  {
   "cell_type": "code",
   "execution_count": null,
   "metadata": {},
   "outputs": [],
   "source": []
  },
  {
   "cell_type": "code",
   "execution_count": null,
   "metadata": {},
   "outputs": [],
   "source": []
  },
  {
   "cell_type": "code",
   "execution_count": null,
   "metadata": {},
   "outputs": [],
   "source": []
  },
  {
   "cell_type": "code",
   "execution_count": null,
   "metadata": {},
   "outputs": [],
   "source": []
  },
  {
   "cell_type": "code",
   "execution_count": null,
   "metadata": {},
   "outputs": [],
   "source": []
  },
  {
   "cell_type": "markdown",
   "metadata": {},
   "source": [
    "## 選取單一欄位或多個欄位\n",
    "    \n",
    "    df[0]\n",
    "    \n",
    "    df[0].head(3)\n",
    "    \n",
    "    df[[\"測項\", 0]].head(3)\n",
    "    \n",
    "    df[[0, 1, 2, 3, 4, 5, 6, 7, 8, 9, 10, 11, 12, 13, 14, 15, \\\n",
    "        16, 17, 18, 19, 20, 21 , 22, 23]]"
   ]
  },
  {
   "cell_type": "code",
   "execution_count": null,
   "metadata": {},
   "outputs": [],
   "source": []
  },
  {
   "cell_type": "code",
   "execution_count": null,
   "metadata": {},
   "outputs": [],
   "source": []
  },
  {
   "cell_type": "code",
   "execution_count": null,
   "metadata": {},
   "outputs": [],
   "source": []
  },
  {
   "cell_type": "code",
   "execution_count": null,
   "metadata": {},
   "outputs": [],
   "source": []
  },
  {
   "cell_type": "markdown",
   "metadata": {},
   "source": [
    "## 選取特定範圍多筆紀錄\n",
    "    \n",
    "    df[0:3]\n",
    "    \n",
    "    df[0:3][[0, 1, 2, 3, 4, 5]]"
   ]
  },
  {
   "cell_type": "code",
   "execution_count": null,
   "metadata": {},
   "outputs": [],
   "source": []
  },
  {
   "cell_type": "code",
   "execution_count": null,
   "metadata": {},
   "outputs": [],
   "source": []
  },
  {
   "cell_type": "markdown",
   "metadata": {},
   "source": [
    "## 使用標籤選取(loc)\n",
    "\n",
    "    使用方式如下：\n",
    "    \n",
    "    [索引, 欄位標籤]\n",
    "    df.loc[0, 0]\n",
    "    \n",
    "    [[索引1, 索引2, ...], [欄位標籤1, 欄位標籤2, ...]]\n",
    "    df.loc[[0, 1, 2], [0, 1, 2, 3, 4, 5]]\n",
    "    \n",
    "    [索引1:索引2, 欄位標籤]\n",
    "    df.loc[0:3, 0]\n",
    "    \n",
    "    [索引1:索引2, [欄位標籤1, 欄位標籤2, ...]]\n",
    "    df.loc[0:3, [0, 1, 2, 3, 4, 5]]\n",
    "    \n",
    "    df.loc[:, [0, 1, 2, 3, 4, 5, 6, 7, 8, 9, 10, 11, 12, 13, 14, 15, \\\n",
    "    16, 17, 18, 19, 20, 21 , 22, 23]]\n"
   ]
  },
  {
   "cell_type": "code",
   "execution_count": null,
   "metadata": {},
   "outputs": [],
   "source": []
  },
  {
   "cell_type": "code",
   "execution_count": null,
   "metadata": {},
   "outputs": [],
   "source": []
  },
  {
   "cell_type": "code",
   "execution_count": null,
   "metadata": {},
   "outputs": [],
   "source": []
  },
  {
   "cell_type": "code",
   "execution_count": null,
   "metadata": {},
   "outputs": [],
   "source": []
  },
  {
   "cell_type": "code",
   "execution_count": null,
   "metadata": {},
   "outputs": [],
   "source": []
  },
  {
   "cell_type": "code",
   "execution_count": null,
   "metadata": {},
   "outputs": [],
   "source": []
  },
  {
   "cell_type": "markdown",
   "metadata": {},
   "source": [
    "## 使用位置選取(iloc)\n",
    "\n",
    "    df.iloc[0]\n",
    "    \n",
    "    df.iloc[0, 0]\n",
    "    \n",
    "    df.iloc[[0, 1, 2], [0, 1, 2, 3, 4, 5]]\n",
    "    \n",
    "    df.iloc[0:3, 0:6]\n",
    "    \n",
    "    df.iloc[:, 3:27]"
   ]
  },
  {
   "cell_type": "code",
   "execution_count": null,
   "metadata": {},
   "outputs": [],
   "source": []
  },
  {
   "cell_type": "code",
   "execution_count": null,
   "metadata": {},
   "outputs": [],
   "source": []
  },
  {
   "cell_type": "code",
   "execution_count": null,
   "metadata": {},
   "outputs": [],
   "source": []
  },
  {
   "cell_type": "code",
   "execution_count": null,
   "metadata": {},
   "outputs": [],
   "source": []
  },
  {
   "cell_type": "code",
   "execution_count": null,
   "metadata": {},
   "outputs": [],
   "source": []
  }
 ],
 "metadata": {
  "kernelspec": {
   "display_name": "Python 3",
   "language": "python",
   "name": "python3"
  },
  "language_info": {
   "codemirror_mode": {
    "name": "ipython",
    "version": 3
   },
   "file_extension": ".py",
   "mimetype": "text/x-python",
   "name": "python",
   "nbconvert_exporter": "python",
   "pygments_lexer": "ipython3",
   "version": "3.8.5"
  }
 },
 "nbformat": 4,
 "nbformat_minor": 2
}
